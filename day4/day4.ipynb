{
 "metadata": {
  "language_info": {
   "codemirror_mode": {
    "name": "ipython",
    "version": 3
   },
   "file_extension": ".py",
   "mimetype": "text/x-python",
   "name": "python",
   "nbconvert_exporter": "python",
   "pygments_lexer": "ipython3",
   "version": "3.7.4-final"
  },
  "orig_nbformat": 2,
  "kernelspec": {
   "name": "python3",
   "display_name": "Python 3"
  }
 },
 "nbformat": 4,
 "nbformat_minor": 2,
 "cells": [
  {
   "cell_type": "code",
   "execution_count": 1,
   "metadata": {},
   "outputs": [],
   "source": [
    "passports = \"\"\"ecl:gry pid:860033327 eyr:2020 hcl:#fffffd\n",
    "byr:1937 iyr:2017 cid:147 hgt:183cm\n",
    "\n",
    "iyr:2013 ecl:amb cid:350 eyr:2023 pid:028048884\n",
    "hcl:#cfa07d byr:1929\n",
    "\n",
    "hcl:#ae17e1 iyr:2013\n",
    "eyr:2024\n",
    "ecl:brn pid:760753108 byr:1931\n",
    "hgt:179cm\n",
    "\n",
    "hcl:#cfa07d eyr:2025 pid:166559648\n",
    "iyr:2011 ecl:brn hgt:59in\"\"\".split(\"\\n\\n\")\n",
    "passports = [{j.split(':')[0]: j.split(':')[1] for j in i.split()} for i in passports]\n"
   ]
  },
  {
   "cell_type": "code",
   "execution_count": 2,
   "metadata": {},
   "outputs": [],
   "source": [
    "import re\n",
    "\n",
    "def valid_ecl(ecl):\n",
    "    return ecl in ['amb', 'blu', 'brn', 'gry', 'grn', 'hzl', 'oth']\n",
    "\n",
    "def valid_byr(byr):\n",
    "    return 1920 <= int(re.sub(r'[^\\d-]+', '', byr)) <= 2002\n",
    "\n",
    "def valid_hgt(hgt):\n",
    "    if hgt.endswith('in'):\n",
    "        if 59 <=int(hgt[0:-2]) <= 79:\n",
    "            return True\n",
    "    elif hgt.endswith('cm'):\n",
    "        if 150 <=int(hgt[0:-2]) <= 193:\n",
    "            return True\n",
    "    return False\n",
    "\n",
    "def valid_hcl(hcl):\n",
    "    return re.match('\\#[0-9a-f]{6}', hcl)\n",
    "\n",
    "def valid_eyr(eyr):\n",
    "    return 2020 <= int(re.sub(r'[^\\d-]+', '', eyr)) <= 2030\n",
    "\n",
    "def valid_iyr(iyr):\n",
    "    return 2010 <= int(re.sub(r'[^\\d-]+', '', iyr)) <= 2020\n",
    "\n",
    "def valid_pid(pid):\n",
    "    return re.match('^[0-9]{9}$', pid)\n",
    "\n",
    "def valid_cid(cid):\n",
    "    return False"
   ]
  },
  {
   "cell_type": "code",
   "execution_count": 3,
   "metadata": {},
   "outputs": [
    {
     "output_type": "stream",
     "name": "stderr",
     "text": [
      "test_values (__main__.TestValidMethods) ... ok\n",
      "\n",
      "----------------------------------------------------------------------\n",
      "Ran 1 test in 0.002s\n",
      "\n",
      "OK\n"
     ]
    },
    {
     "output_type": "execute_result",
     "data": {
      "text/plain": [
       "<unittest.main.TestProgram at 0x7fd00051cd90>"
      ]
     },
     "metadata": {},
     "execution_count": 3
    }
   ],
   "source": [
    "import unittest\n",
    "\n",
    "class TestValidMethods(unittest.TestCase):\n",
    "\n",
    "    def test_values(self):\n",
    "        self.assertTrue(valid_byr('2002'))\n",
    "        self.assertFalse(valid_byr('2003'))\n",
    "        self.assertTrue(valid_hgt('60in'))\n",
    "        self.assertTrue(valid_hgt('190cm'))\n",
    "        self.assertFalse(valid_hgt('190in'))\n",
    "        self.assertFalse(valid_hgt('190'))\n",
    "        self.assertTrue(valid_hcl('#123abc'))\n",
    "        self.assertFalse(valid_hcl('#123abz'))\n",
    "        self.assertFalse(valid_hcl('123abc'))\n",
    "        self.assertTrue(valid_ecl('brn'))\n",
    "        self.assertFalse(valid_ecl('wat'))\n",
    "        self.assertTrue(valid_pid('000000001'))\n",
    "        self.assertFalse(valid_pid('0123456789'))\n",
    "        self.assertFalse(valid_cid('any'))\n",
    "\n",
    "unittest.main(argv=[''], verbosity=2, exit=False)"
   ]
  },
  {
   "cell_type": "code",
   "execution_count": 4,
   "metadata": {},
   "outputs": [
    {
     "output_type": "stream",
     "name": "stdout",
     "text": [
      "valid passports 2\n"
     ]
    }
   ],
   "source": [
    "required_keys = ['byr', 'iyr' , 'eyr' , 'hgt', 'hcl' , 'ecl' , 'pid']\n",
    "valid_count = 0\n",
    "\n",
    "for p in passports:\n",
    "    if not (set(required_keys) - set(p.keys())):\n",
    "        vlc = 0\n",
    "        for key, val in p.items():\n",
    "            if locals()[f\"valid_{key}\"](val):\n",
    "                vlc += 1\n",
    "        if vlc == 7:\n",
    "            valid_count += 1\n",
    "print('valid passports', valid_count)"
   ]
  },
  {
   "cell_type": "code",
   "execution_count": null,
   "metadata": {},
   "outputs": [],
   "source": []
  }
 ]
}
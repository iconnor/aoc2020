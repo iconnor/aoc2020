{
 "metadata": {
  "language_info": {
   "codemirror_mode": {
    "name": "ipython",
    "version": 3
   },
   "file_extension": ".py",
   "mimetype": "text/x-python",
   "name": "python",
   "nbconvert_exporter": "python",
   "pygments_lexer": "ipython3",
   "version": "3.8.2-final"
  },
  "orig_nbformat": 2,
  "kernelspec": {
   "name": "python3",
   "display_name": "Python 3"
  }
 },
 "nbformat": 4,
 "nbformat_minor": 2,
 "cells": [
  {
   "cell_type": "code",
   "execution_count": 79,
   "metadata": {},
   "outputs": [],
   "source": [
    "raw_lines = \"\"\"nop +0\n",
    "acc +1\n",
    "jmp +4\n",
    "acc +3\n",
    "jmp -3\n",
    "acc -99\n",
    "acc +1\n",
    "jmp -4\n",
    "acc +6\"\"\".split(\"\\n\")\n",
    "\n",
    "lines = [i.split() for i in raw_lines]"
   ]
  },
  {
   "cell_type": "code",
   "execution_count": 80,
   "metadata": {},
   "outputs": [
    {
     "output_type": "stream",
     "name": "stdout",
     "text": [
      "Found 1626\n"
     ]
    }
   ],
   "source": [
    "def attempt_boot(in_lines):\n",
    "    run_lines = []\n",
    "    j = 0\n",
    "    i = 0\n",
    "    while True:\n",
    "        if i in run_lines:\n",
    "            return False, j\n",
    "        run_lines.append(i)\n",
    "\n",
    "        if i == len(in_lines):\n",
    "            return True, j\n",
    "        \n",
    "        if in_lines[i][0] == 'nop':\n",
    "            i += 1\n",
    "        elif in_lines[i][0] == 'acc':\n",
    "            j += int(in_lines[i][1])\n",
    "            i += 1\n",
    "        elif in_lines[i][0] == 'jmp':\n",
    "            i += int(in_lines[i][1])\n",
    "        else:\n",
    "            return False, j\n",
    "\n",
    "ret = attempt_boot(lines)\n",
    "\n",
    "for x in range(len(lines)):\n",
    "    test_lines = [i.split() for i in raw_lines]\n",
    "    if test_lines[x][0] == 'nop':\n",
    "        test_lines[x][0] = ['jmp', test_lines[x][1]]\n",
    "    elif test_lines[x][0] == 'jmp':\n",
    "        test_lines[x] = ['nop', test_lines[x][1]]\n",
    "    ret, j = attempt_boot(test_lines)\n",
    "    if ret:\n",
    "        print('Found', j)\n",
    "    \n",
    "\n"
   ]
  },
  {
   "cell_type": "code",
   "execution_count": null,
   "metadata": {},
   "outputs": [],
   "source": []
  }
 ]
}
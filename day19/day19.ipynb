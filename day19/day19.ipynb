{
 "metadata": {
  "language_info": {
   "codemirror_mode": {
    "name": "ipython",
    "version": 3
   },
   "file_extension": ".py",
   "mimetype": "text/x-python",
   "name": "python",
   "nbconvert_exporter": "python",
   "pygments_lexer": "ipython3",
   "version": "3.7.4-final"
  },
  "orig_nbformat": 2,
  "kernelspec": {
   "name": "python3",
   "display_name": "Python 3",
   "language": "python"
  }
 },
 "nbformat": 4,
 "nbformat_minor": 2,
 "cells": [
  {
   "cell_type": "code",
   "execution_count": 263,
   "metadata": {},
   "outputs": [
    {
     "output_type": "execute_result",
     "data": {
      "text/plain": [
       "6"
      ]
     },
     "metadata": {},
     "execution_count": 263
    }
   ],
   "source": [
    "inp = \"\"\"0: 4 1 5\n",
    "1: 2 3 | 3 2\n",
    "2: 4 4 | 5 5\n",
    "3: 4 5 | 5 4\n",
    "4: \"a\"\n",
    "5: \"b\"\n",
    "\n",
    "ababbb\n",
    "bababa\n",
    "abbbab\n",
    "aaabbb\n",
    "aaaabbb\"\"\"\n",
    "\n",
    "# This seems to pass the example test but clearly I didn't understand the rules\n",
    "\n",
    "rules_lines, messages = inp.split(\"\\n\\n\")\n",
    "\n",
    "class InnerRule():\n",
    "    def __repr__(self):\n",
    "        return self.line\n",
    "\n",
    "class OrRule(InnerRule):\n",
    "    def __init__(self, line):\n",
    "        self.line = line\n",
    "        self.parts = []\n",
    "        for part in line.split('|'):\n",
    "            self.parts.append([int(i) for i in part.split()])\n",
    "\n",
    "class LetterRule(InnerRule):\n",
    "    def __init__(self, line):\n",
    "        self.line = line\n",
    "        self.l = line.strip('\"')\n",
    "\n",
    "class RefRule(InnerRule):\n",
    "    def __init__(self, line):\n",
    "        self.line = line\n",
    "        self.r = [int(i) for i in line.split()]\n",
    "\n",
    "rules = {}\n",
    "for line in rules_lines.splitlines():\n",
    "    if '|' in line:        \n",
    "        rules[int(line.split(':')[0])] = OrRule(line.split(': ')[1])\n",
    "    elif '\"' in line:\n",
    "        rules[int(line.split(':')[0])] = LetterRule(line.split(': ')[1])\n",
    "    else:\n",
    "        rules[int(line.split(':')[0])] = RefRule(line.split(': ')[1])\n",
    "len(rules)"
   ]
  },
  {
   "cell_type": "code",
   "execution_count": 264,
   "metadata": {},
   "outputs": [
    {
     "output_type": "execute_result",
     "data": {
      "text/plain": [
       "2"
      ]
     },
     "metadata": {},
     "execution_count": 264
    }
   ],
   "source": [
    "def apply_rule(rule, rules, message):\n",
    "    if isinstance(rule, RefRule):\n",
    "        p = 0\n",
    "        for r in rule.r:\n",
    "            match, match_end = apply_rule(rules[r], rules, message)\n",
    "            if not match:\n",
    "                return False, match_end\n",
    "            message = message[match_end:]\n",
    "        return True, match_end\n",
    "    elif isinstance(rule, OrRule):\n",
    "        for part in rule.parts:\n",
    "            found = True\n",
    "            p = 0\n",
    "            for c in part:\n",
    "                t, np = apply_rule(rules[c], rules, message[p:])\n",
    "                p += np\n",
    "                if not t:\n",
    "                    found = False\n",
    "            if found:\n",
    "                return found, len(rule.parts[0])\n",
    "        return found, p\n",
    "    elif isinstance(rule, LetterRule):\n",
    "        if message[0] == rule.l:\n",
    "            return True, 1\n",
    "        return False, 0\n",
    "\n",
    "results = []\n",
    "for message in messages.splitlines():\n",
    "    ret, _ = apply_rule(rules[0], rules, message)\n",
    "    results.append(ret)\n",
    "    \n",
    "sum(results)\n"
   ]
  },
  {
   "cell_type": "code",
   "execution_count": 265,
   "metadata": {},
   "outputs": [
    {
     "output_type": "execute_result",
     "data": {
      "text/plain": [
       "3"
      ]
     },
     "metadata": {},
     "execution_count": 265
    }
   ],
   "source": [
    "inp = \"\"\"42: 9 14 | 10 1\n",
    "9: 14 27 | 1 26\n",
    "10: 23 14 | 28 1\n",
    "1: \"a\"\n",
    "11: 42 31\n",
    "5: 1 14 | 15 1\n",
    "19: 14 1 | 14 14\n",
    "12: 24 14 | 19 1\n",
    "16: 15 1 | 14 14\n",
    "31: 14 17 | 1 13\n",
    "6: 14 14 | 1 14\n",
    "2: 1 24 | 14 4\n",
    "0: 8 11\n",
    "13: 14 3 | 1 12\n",
    "15: 1 | 14\n",
    "17: 14 2 | 1 7\n",
    "23: 25 1 | 22 14\n",
    "28: 16 1\n",
    "4: 1 1\n",
    "20: 14 14 | 1 15\n",
    "3: 5 14 | 16 1\n",
    "27: 1 6 | 14 18\n",
    "14: \"b\"\n",
    "21: 14 1 | 1 14\n",
    "25: 1 1 | 1 14\n",
    "22: 14 14\n",
    "8: 42\n",
    "26: 14 22 | 1 20\n",
    "18: 15 15\n",
    "7: 14 5 | 1 21\n",
    "24: 14 1\n",
    "\n",
    "abbbbbabbbaaaababbaabbbbabababbbabbbbbbabaaaa\n",
    "bbabbbbaabaabba\n",
    "babbbbaabbbbbabbbbbbaabaaabaaa\n",
    "aaabbbbbbaaaabaababaabababbabaaabbababababaaa\n",
    "bbbbbbbaaaabbbbaaabbabaaa\n",
    "bbbababbbbaaaaaaaabbababaaababaabab\n",
    "ababaaaaaabaaab\n",
    "ababaaaaabbbaba\n",
    "baabbaaaabbaaaababbaababb\n",
    "abbbbabbbbaaaababbbbbbaaaababb\n",
    "aaaaabbaabaaaaababaa\n",
    "aaaabbaaaabbaaa\n",
    "aaaabbaabbaaaaaaabbbabbbaaabbaabaaa\n",
    "babaaabbbaaabaababbaabababaaab\n",
    "aabbbbbaabbbaaaaaabbbbbababaaaaabbaaabba\"\"\"\n",
    "\n",
    "rules_lines, messages = inp.split(\"\\n\\n\")\n",
    "\n",
    "\n",
    "rules = {}\n",
    "for line in rules_lines.splitlines():\n",
    "    if '|' in line:        \n",
    "        rules[int(line.split(':')[0])] = OrRule(line.split(': ')[1])\n",
    "    elif '\"' in line:\n",
    "        rules[int(line.split(':')[0])] = LetterRule(line.split(': ')[1])\n",
    "    else:\n",
    "        rules[int(line.split(':')[0])] = RefRule(line.split(': ')[1])\n",
    "len(rules)\n",
    "\n",
    "\n",
    "results = []\n",
    "for message in messages.splitlines():\n",
    "    ret, _ = apply_rule(rules[0], rules, message)\n",
    "    results.append(ret)\n",
    "    \n",
    "sum(results)"
   ]
  }
 ]
}
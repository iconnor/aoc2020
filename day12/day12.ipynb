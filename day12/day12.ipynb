{
 "metadata": {
  "language_info": {
   "codemirror_mode": {
    "name": "ipython",
    "version": 3
   },
   "file_extension": ".py",
   "mimetype": "text/x-python",
   "name": "python",
   "nbconvert_exporter": "python",
   "pygments_lexer": "ipython3",
   "version": "3.8.5-final"
  },
  "orig_nbformat": 2,
  "kernelspec": {
   "name": "python3",
   "display_name": "Python 3",
   "language": "python"
  }
 },
 "nbformat": 4,
 "nbformat_minor": 2,
 "cells": [
  {
   "cell_type": "code",
   "execution_count": 79,
   "metadata": {},
   "outputs": [],
   "source": [
    "inputs = [[line[:1], int(line[1:])] for line in \"\"\"F10\n",
    "N3\n",
    "F7\n",
    "R90\n",
    "F11\"\"\".splitlines()]"
   ]
  },
  {
   "cell_type": "code",
   "execution_count": 80,
   "metadata": {},
   "outputs": [
    {
     "output_type": "execute_result",
     "data": {
      "text/plain": [
       "25"
      ]
     },
     "metadata": {},
     "execution_count": 80
    }
   ],
   "source": [
    "direction = 'E'\n",
    "\n",
    "compas = ['N', 'E', 'S', 'W']\n",
    " \n",
    "def change_direction(step):\n",
    "    if step[0] == 'R':\n",
    "        return compas[(compas.index(direction) + int(step[1]/90)) % 4]\n",
    "    if step[0] == 'L':\n",
    "        return compas[(compas.index(direction) - int(step[1]/90)) % 4]\n",
    "\n",
    "x = 0\n",
    "y = 0\n",
    "\n",
    "def move_it(step, x, y):\n",
    "    if step[0] == 'N':\n",
    "        x += step[1]\n",
    "    elif step[0] == 'S':\n",
    "        x -= step[1]\n",
    "    elif step[0] == 'E':\n",
    "        y += step[1]\n",
    "    elif step[0] == 'W':\n",
    "        y -= step[1]\n",
    "    return x, y\n",
    "\n",
    "\n",
    "for step in inputs:\n",
    "    if step[0] in compas:\n",
    "        x, y = move_it(step, x, y)   \n",
    "    elif step[0] in ['L', 'R']:\n",
    "         direction = change_direction(step)\n",
    "    elif step[0] == 'F':\n",
    "        x, y = move_it([direction, step[1]], x, y)\n",
    "    elif step[0] == 'B':\n",
    "        x, y = move_it([direction, -step[1]], x, y)\n",
    "\n",
    "abs(x) +  abs(y)"
   ]
  },
  {
   "cell_type": "code",
   "execution_count": 81,
   "metadata": {},
   "outputs": [
    {
     "output_type": "execute_result",
     "data": {
      "text/plain": [
       "286"
      ]
     },
     "metadata": {},
     "execution_count": 81
    }
   ],
   "source": [
    "import math\n",
    "\n",
    "x_wp = 1\n",
    "y_wp = 10\n",
    "\n",
    "def move_wp(step, x, y):\n",
    "    if step[0] == 'N':\n",
    "        x += step[1]\n",
    "    elif step[0] == 'S':\n",
    "        x -= step[1]\n",
    "    elif step[0] == 'E':\n",
    "        y += step[1]\n",
    "    elif step[0] == 'W':\n",
    "        y -= step[1]\n",
    "    return x, y\n",
    "\n",
    "x = 0\n",
    "y = 0\n",
    "\n",
    "def rotate_origin_only(x, y, degrees):\n",
    "    \"\"\"Only rotate a point around the origin (0, 0).\"\"\"\n",
    "    xx = round(x * math.cos(math.radians(degrees)) + y * math.sin(math.radians(degrees)))\n",
    "    yy = round(-x * math.sin(math.radians(degrees)) + y * math.cos(math.radians(degrees)))\n",
    "\n",
    "    return xx, yy\n",
    "\n",
    "def change_direction(step, x, y):\n",
    "    if step[0] == 'R':\n",
    "        return rotate_origin_only(x, y, -step[1])\n",
    "    if step[0] == 'L':\n",
    "        return rotate_origin_only(x, y, step[1])\n",
    "\n",
    "\n",
    "def move_it(step, x_wp, y_wp, x, y):\n",
    "    if step[0] == 'F':\n",
    "        x = x + (step[1] * (x_wp))\n",
    "        y = y + (step[1] * (y_wp))\n",
    "    elif step[0] == 'B':\n",
    "        x = x + (step[1] * (x_wp))\n",
    "        y = y + (step[1] * (y_wp))\n",
    "    return x, y\n",
    "\n",
    "for step in inputs:\n",
    "    if step[0] in compas:\n",
    "        x_wp, y_wp = move_wp(step, x_wp, y_wp)   \n",
    "    elif step[0] in ['L', 'R']:\n",
    "        x_wp, y_wp = change_direction(step, x_wp, y_wp)\n",
    "    elif step[0] in ['F', 'B']:\n",
    "        x, y = move_it(step, x_wp, y_wp, x, y)\n",
    "    \n",
    "abs(x) +  abs(y)"
   ]
  },
  {
   "cell_type": "code",
   "execution_count": null,
   "metadata": {},
   "outputs": [],
   "source": []
  }
 ]
}
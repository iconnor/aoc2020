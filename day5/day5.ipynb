{
 "metadata": {
  "language_info": {
   "codemirror_mode": {
    "name": "ipython",
    "version": 3
   },
   "file_extension": ".py",
   "mimetype": "text/x-python",
   "name": "python",
   "nbconvert_exporter": "python",
   "pygments_lexer": "ipython3",
   "version": "3.8.5-final"
  },
  "orig_nbformat": 2,
  "kernelspec": {
   "name": "python3",
   "display_name": "Python 3.8.5 64-bit ('tf_2': conda)",
   "metadata": {
    "interpreter": {
     "hash": "dad9c99bf96765e9b369308067499f0530bf205650417b47fcff323222ec1002"
    }
   }
  }
 },
 "nbformat": 4,
 "nbformat_minor": 2,
 "cells": [
  {
   "cell_type": "code",
   "execution_count": 66,
   "metadata": {},
   "outputs": [
    {
     "output_type": "execute_result",
     "data": {
      "text/plain": [
       "['BFFFBBFRRR', 'FFFBBBFRRR', 'BBFFBBFRLL']"
      ]
     },
     "metadata": {},
     "execution_count": 66
    }
   ],
   "source": [
    "passes = \"\"\"BFFFBBFRRR\n",
    "FFFBBBFRRR\n",
    "BBFFBBFRLL\"\"\".split(\"\\n\")\n",
    "passes"
   ]
  },
  {
   "cell_type": "code",
   "execution_count": 67,
   "metadata": {},
   "outputs": [
    {
     "output_type": "stream",
     "name": "stdout",
     "text": [
      "highest 820\n"
     ]
    }
   ],
   "source": [
    "def get_seat_info(bp):\n",
    "    \"\"\"Get seat_id, row and seat\"\"\"\n",
    "    row = int(bp[:7].replace('F', '0').replace('B', '1'), 2)\n",
    "    seat = int(bp[7:].replace('L', '0').replace('R', '1'), 2)\n",
    "    return (row*8 + seat), row, seat\n",
    "\n",
    "seat_ids = []\n",
    "for bp in passes:\n",
    "    high, _, _ = get_seat_info(bp)\n",
    "    seat_ids.append(high)\n",
    "seat_ids.sort()\n",
    "print('highest', seat_ids[-1])"
   ]
  },
  {
   "cell_type": "code",
   "execution_count": 69,
   "metadata": {},
   "outputs": [
    {
     "output_type": "stream",
     "name": "stdout",
     "text": [
      "missing 120\n"
     ]
    }
   ],
   "source": [
    "for i in range(seat_ids[0], seat_ids[-1]):\n",
    "    if not i in seat_ids:\n",
    "        print('missing', i)\n",
    "        break"
   ]
  },
  {
   "cell_type": "code",
   "execution_count": null,
   "metadata": {},
   "outputs": [],
   "source": []
  }
 ]
}
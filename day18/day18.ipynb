{
 "metadata": {
  "language_info": {
   "codemirror_mode": {
    "name": "ipython",
    "version": 3
   },
   "file_extension": ".py",
   "mimetype": "text/x-python",
   "name": "python",
   "nbconvert_exporter": "python",
   "pygments_lexer": "ipython3",
   "version": "3.7.4-final"
  },
  "orig_nbformat": 2,
  "kernelspec": {
   "name": "python3",
   "display_name": "Python 3",
   "language": "python"
  }
 },
 "nbformat": 4,
 "nbformat_minor": 2,
 "cells": [
  {
   "cell_type": "code",
   "execution_count": 1,
   "metadata": {},
   "outputs": [
    {
     "output_type": "execute_result",
     "data": {
      "text/plain": [
       "24650385570008"
      ]
     },
     "metadata": {},
     "execution_count": 1
    }
   ],
   "source": [
    "# Part 1: New Math has different precedents. After trying to dig into AST and Tokenizer and\n",
    "# talking Nick (https://github.com/ncoghlan) the precident order is handed to the compiler,\n",
    "# so I decided not to fight the compiler but rather just use a non-integer operations matmul (@)\n",
    "# as it has the same priority as multiplication (*)\n",
    "\n",
    "\n",
    "class NewMath():\n",
    "    def __init__(self, num):\n",
    "        self.num = num\n",
    "\n",
    "    def __matmul__(self, in_num):\n",
    "        \"\"\" @ is the new + \"\"\"\n",
    "        return NewMath(self.num + in_num.num)\n",
    "    \n",
    "    def __mul__(self, in_num):\n",
    "        return NewMath(self.num * in_num.num)\n",
    "\n",
    "    @classmethod\n",
    "    def translate(cls, inline):\n",
    "        \"\"\" Use the compilers order preference \"\"\"\n",
    "        inline = inline.replace('(', ' ( ').replace(')', ' ) ')\n",
    "        new_line = []\n",
    "        for sym in inline.split():\n",
    "            if sym.isnumeric():\n",
    "                new_line.append(f'NewMath({sym})')\n",
    "            elif sym == '+':\n",
    "                new_line.append('@')\n",
    "            else:\n",
    "                new_line.append(sym)\n",
    "        return ' '.join(new_line)\n",
    "    \n",
    "    @classmethod\n",
    "    def new_evaluate(cls, inline):\n",
    "        return eval(cls.translate(inline))\n",
    "    \n",
    "# Part 1: sum of all the equations\n",
    "sum([NewMath.new_evaluate(line).num for line in open('input.txt', 'r').readlines()])"
   ]
  },
  {
   "cell_type": "code",
   "execution_count": 2,
   "metadata": {},
   "outputs": [
    {
     "output_type": "execute_result",
     "data": {
      "text/plain": [
       "158183007916215"
      ]
     },
     "metadata": {},
     "execution_count": 2
    }
   ],
   "source": [
    "# Part 2: Still the same approach but I have to swap + and - for the compiler but use\n",
    "# the new math class for actual operations. This works because the order comes from the\n",
    "# compiler but the actual operations comes from AST.\n",
    "\n",
    "\n",
    "class SecondNewMath(NewMath):\n",
    "    def __add__(self, in_num):\n",
    "        \"\"\" + is the new * \"\"\"\n",
    "        return SecondNewMath(self.num * in_num.num)\n",
    "\n",
    "    def __mul__(self, in_num):\n",
    "        \"\"\" * is the new - \"\"\"\n",
    "        return SecondNewMath(self.num + in_num.num)\n",
    "\n",
    "    @classmethod\n",
    "    def translate(cls, inline):\n",
    "        \"\"\" Use the compilers order preference \"\"\"\n",
    "        inline = inline.replace('(', ' ( ').replace(')', ' ) ')\n",
    "        new_line = []\n",
    "        for sym in inline.split():\n",
    "            if sym.isnumeric():\n",
    "                new_line.append(f'SecondNewMath({sym})')\n",
    "            elif sym == '+':\n",
    "                new_line.append('*')\n",
    "            elif sym == '*':\n",
    "                new_line.append('+')\n",
    "            else:\n",
    "                new_line.append(sym)\n",
    "        return ' '.join(new_line)\n",
    "\n",
    "# Sum of all the lines using new math\n",
    "sum([SecondNewMath.new_evaluate(line).num for line in open('input.txt', 'r').readlines()])"
   ]
  },
  {
   "cell_type": "code",
   "execution_count": null,
   "metadata": {},
   "outputs": [],
   "source": []
  }
 ]
}
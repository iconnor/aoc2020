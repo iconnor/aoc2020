{
 "metadata": {
  "language_info": {
   "codemirror_mode": {
    "name": "ipython",
    "version": 3
   },
   "file_extension": ".py",
   "mimetype": "text/x-python",
   "name": "python",
   "nbconvert_exporter": "python",
   "pygments_lexer": "ipython3",
   "version": "3.7.9-final"
  },
  "orig_nbformat": 2,
  "kernelspec": {
   "name": "python3",
   "display_name": "Python 3.7.9 64-bit ('tf_115': conda)",
   "metadata": {
    "interpreter": {
     "hash": "5331063a3287b122370866e653942a5357eda04b9567f522caab97bd197bc586"
    }
   }
  }
 },
 "nbformat": 4,
 "nbformat_minor": 2,
 "cells": [
  {
   "cell_type": "code",
   "execution_count": 9,
   "metadata": {},
   "outputs": [
    {
     "output_type": "execute_result",
     "data": {
      "text/plain": [
       "11"
      ]
     },
     "metadata": {},
     "execution_count": 9
    }
   ],
   "source": [
    "trees = \"\"\"..##.......\n",
    "#...#...#..\n",
    ".#....#..#.\n",
    "..#.#...#.#\n",
    ".#...##..#.\n",
    "..#.##.....\n",
    ".#.#.#....#\n",
    ".#........#\n",
    "#.##...#...\n",
    "#...##....#\n",
    ".#..#...#.#\"\"\".split(\"\\n\")\n",
    "len(trees)"
   ]
  },
  {
   "cell_type": "code",
   "execution_count": 11,
   "metadata": {},
   "outputs": [
    {
     "output_type": "stream",
     "name": "stdout",
     "text": [
      "7\n336\n"
     ]
    }
   ],
   "source": [
    "# Read file in as an array or strings (trees)\n",
    "\n",
    "arr = [[1 if c == '#' else 0 for c in list(i)] for i in trees]\n",
    "width = len(arr[0])\n",
    "def get_count(x_plus, step):\n",
    "    x = 0\n",
    "    trees_found = 0\n",
    "    for row in arr[::step]:\n",
    "        trees_found += row[x % width] \n",
    "        x += x_plus\n",
    "    return trees_found\n",
    "\n",
    "print(get_count(3,1))\n",
    "print(get_count(1,1) * get_count(3,1) * get_count(5,1) * get_count(7,1) * get_count(1,2))\n"
   ]
  },
  {
   "cell_type": "code",
   "execution_count": null,
   "metadata": {},
   "outputs": [],
   "source": []
  }
 ]
}
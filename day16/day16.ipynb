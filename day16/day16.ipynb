{
 "metadata": {
  "language_info": {
   "codemirror_mode": {
    "name": "ipython",
    "version": 3
   },
   "file_extension": ".py",
   "mimetype": "text/x-python",
   "name": "python",
   "nbconvert_exporter": "python",
   "pygments_lexer": "ipython3",
   "version": "3.7.9-final"
  },
  "orig_nbformat": 2,
  "kernelspec": {
   "name": "python3",
   "display_name": "Python 3.7.9 64-bit ('tf_115': conda)",
   "metadata": {
    "interpreter": {
     "hash": "5331063a3287b122370866e653942a5357eda04b9567f522caab97bd197bc586"
    }
   }
  }
 },
 "nbformat": 4,
 "nbformat_minor": 2,
 "cells": [
  {
   "cell_type": "code",
   "execution_count": 166,
   "metadata": {},
   "outputs": [],
   "source": [
    "with open(\"input.txt\", \"r\") as f:\n",
    "    inp = f.read()\n",
    "\n",
    "inp_split = inp.split('\\n\\n')\n",
    "\n",
    "rules = {k.split(': ')[0]: k.split(': ')[1] for k in inp_split[0].splitlines()}\n",
    "mine = [int(i) for i in inp_split[1].splitlines()[1].split(',')]\n",
    "others = [[int(x) for x in i.split(',')] for i in inp_split[2].splitlines()[1:]]"
   ]
  },
  {
   "cell_type": "code",
   "execution_count": 167,
   "metadata": {},
   "outputs": [
    {
     "output_type": "execute_result",
     "data": {
      "text/plain": [
       "26026"
      ]
     },
     "metadata": {},
     "execution_count": 167
    }
   ],
   "source": [
    "import re\n",
    "\n",
    "def class_matches(rules, num):\n",
    "    \"\"\" which class rules match a given number \"\"\"\n",
    "    found = {}\n",
    "    for c, rule in rules.items():\n",
    "        l1, h1, l2, h2 = [int(i) for i in re.split('[ or -]+', rule)]\n",
    "        if num >= l1 and num <= h1:\n",
    "            found[c] = 1\n",
    "        elif num >= l2 and num <= h2:\n",
    "            found[c] = 1\n",
    "        else:\n",
    "            found[c] = 0\n",
    "    return found\n",
    "\n",
    "\n",
    "\"\"\" Part 1 of the question, find the bad rate \"\"\"\n",
    "bad_rate = 0\n",
    "good_tickets = []\n",
    "for oth in others:\n",
    "    good_one = True\n",
    "    for num in oth:\n",
    "        if sum(class_matches(rules, num).values()) == 0:\n",
    "            bad_rate += num\n",
    "            good_one = False\n",
    "    if good_one:\n",
    "        good_tickets.append(oth)\n",
    "\n",
    "bad_rate\n",
    "\n",
    "\n",
    "                "
   ]
  },
  {
   "cell_type": "code",
   "execution_count": 168,
   "metadata": {},
   "outputs": [],
   "source": [
    "# Part 2 is to take the good tickets only and find which rules apply\n",
    "\n",
    "match = {}\n",
    "for ticket in good_tickets:\n",
    "    for i in range(len(ticket)):\n",
    "        if not i in match:\n",
    "            match[i] = class_matches(rules, ticket[i])\n",
    "        else:\n",
    "            vals = class_matches(rules, ticket[i])\n",
    "            for key in list(rules.keys()):\n",
    "                match[i][key] += vals[key]"
   ]
  },
  {
   "cell_type": "code",
   "execution_count": 169,
   "metadata": {},
   "outputs": [],
   "source": [
    "import pandas as pd\n",
    "\n",
    "df = pd.DataFrame(match)\n",
    "\n",
    "num_good_tickets = len(good_tickets)\n",
    "\n",
    "# Make it 1 if all rules can be applied and 0 if not\n",
    "df_match = df.where(df == num_good_tickets, other=0).mask(df == num_good_tickets, 1)"
   ]
  },
  {
   "cell_type": "code",
   "execution_count": 170,
   "metadata": {},
   "outputs": [
    {
     "output_type": "execute_result",
     "data": {
      "text/plain": [
       "                    5   12  13  11  16  0   8   1   19  10  3   6   9   14  \\\n",
       "arrival location     1   0   0   0   0   0   0   0   0   0   0   0   0   0   \n",
       "arrival platform     1   1   0   0   0   0   0   0   0   0   0   0   0   0   \n",
       "row                  1   1   1   0   0   0   0   0   0   0   0   0   0   0   \n",
       "class                1   1   1   1   0   0   0   0   0   0   0   0   0   0   \n",
       "arrival station      1   1   1   1   1   0   0   0   0   0   0   0   0   0   \n",
       "zone                 1   1   1   1   1   1   0   0   0   0   0   0   0   0   \n",
       "departure date       1   1   1   1   1   1   1   0   0   0   0   0   0   0   \n",
       "departure location   1   1   1   1   1   1   1   1   0   0   0   0   0   0   \n",
       "departure time       1   1   1   1   1   1   1   1   1   0   0   0   0   0   \n",
       "departure platform   1   1   1   1   1   1   1   1   1   1   0   0   0   0   \n",
       "departure station    1   1   1   1   1   1   1   1   1   1   1   0   0   0   \n",
       "departure track      1   1   1   1   1   1   1   1   1   1   1   1   0   0   \n",
       "train                1   1   1   1   1   1   1   1   1   1   1   1   1   0   \n",
       "seat                 1   1   1   1   1   1   1   1   1   1   1   1   1   1   \n",
       "route                1   1   1   1   1   1   1   1   1   1   1   1   1   1   \n",
       "price                1   1   1   1   1   1   1   1   1   1   1   1   1   1   \n",
       "type                 1   1   1   1   1   1   1   1   1   1   1   1   1   1   \n",
       "arrival track        1   1   1   1   1   1   1   1   1   1   1   1   1   1   \n",
       "duration             1   1   1   1   1   1   1   1   1   1   1   1   1   1   \n",
       "wagon                1   1   1   1   1   1   1   1   1   1   1   1   1   1   \n",
       "\n",
       "                    7   4   17  2   18  15  \n",
       "arrival location     0   0   0   0   0   0  \n",
       "arrival platform     0   0   0   0   0   0  \n",
       "row                  0   0   0   0   0   0  \n",
       "class                0   0   0   0   0   0  \n",
       "arrival station      0   0   0   0   0   0  \n",
       "zone                 0   0   0   0   0   0  \n",
       "departure date       0   0   0   0   0   0  \n",
       "departure location   0   0   0   0   0   0  \n",
       "departure time       0   0   0   0   0   0  \n",
       "departure platform   0   0   0   0   0   0  \n",
       "departure station    0   0   0   0   0   0  \n",
       "departure track      0   0   0   0   0   0  \n",
       "train                0   0   0   0   0   0  \n",
       "seat                 0   0   0   0   0   0  \n",
       "route                1   0   0   0   0   0  \n",
       "price                1   1   0   0   0   0  \n",
       "type                 1   1   1   0   0   0  \n",
       "arrival track        1   1   1   1   0   0  \n",
       "duration             1   1   1   1   1   0  \n",
       "wagon                1   1   1   1   1   1  "
      ],
      "text/html": "<div>\n<style scoped>\n    .dataframe tbody tr th:only-of-type {\n        vertical-align: middle;\n    }\n\n    .dataframe tbody tr th {\n        vertical-align: top;\n    }\n\n    .dataframe thead th {\n        text-align: right;\n    }\n</style>\n<table border=\"1\" class=\"dataframe\">\n  <thead>\n    <tr style=\"text-align: right;\">\n      <th></th>\n      <th>5</th>\n      <th>12</th>\n      <th>13</th>\n      <th>11</th>\n      <th>16</th>\n      <th>0</th>\n      <th>8</th>\n      <th>1</th>\n      <th>19</th>\n      <th>10</th>\n      <th>3</th>\n      <th>6</th>\n      <th>9</th>\n      <th>14</th>\n      <th>7</th>\n      <th>4</th>\n      <th>17</th>\n      <th>2</th>\n      <th>18</th>\n      <th>15</th>\n    </tr>\n  </thead>\n  <tbody>\n    <tr>\n      <th>arrival location</th>\n      <td>1</td>\n      <td>0</td>\n      <td>0</td>\n      <td>0</td>\n      <td>0</td>\n      <td>0</td>\n      <td>0</td>\n      <td>0</td>\n      <td>0</td>\n      <td>0</td>\n      <td>0</td>\n      <td>0</td>\n      <td>0</td>\n      <td>0</td>\n      <td>0</td>\n      <td>0</td>\n      <td>0</td>\n      <td>0</td>\n      <td>0</td>\n      <td>0</td>\n    </tr>\n    <tr>\n      <th>arrival platform</th>\n      <td>1</td>\n      <td>1</td>\n      <td>0</td>\n      <td>0</td>\n      <td>0</td>\n      <td>0</td>\n      <td>0</td>\n      <td>0</td>\n      <td>0</td>\n      <td>0</td>\n      <td>0</td>\n      <td>0</td>\n      <td>0</td>\n      <td>0</td>\n      <td>0</td>\n      <td>0</td>\n      <td>0</td>\n      <td>0</td>\n      <td>0</td>\n      <td>0</td>\n    </tr>\n    <tr>\n      <th>row</th>\n      <td>1</td>\n      <td>1</td>\n      <td>1</td>\n      <td>0</td>\n      <td>0</td>\n      <td>0</td>\n      <td>0</td>\n      <td>0</td>\n      <td>0</td>\n      <td>0</td>\n      <td>0</td>\n      <td>0</td>\n      <td>0</td>\n      <td>0</td>\n      <td>0</td>\n      <td>0</td>\n      <td>0</td>\n      <td>0</td>\n      <td>0</td>\n      <td>0</td>\n    </tr>\n    <tr>\n      <th>class</th>\n      <td>1</td>\n      <td>1</td>\n      <td>1</td>\n      <td>1</td>\n      <td>0</td>\n      <td>0</td>\n      <td>0</td>\n      <td>0</td>\n      <td>0</td>\n      <td>0</td>\n      <td>0</td>\n      <td>0</td>\n      <td>0</td>\n      <td>0</td>\n      <td>0</td>\n      <td>0</td>\n      <td>0</td>\n      <td>0</td>\n      <td>0</td>\n      <td>0</td>\n    </tr>\n    <tr>\n      <th>arrival station</th>\n      <td>1</td>\n      <td>1</td>\n      <td>1</td>\n      <td>1</td>\n      <td>1</td>\n      <td>0</td>\n      <td>0</td>\n      <td>0</td>\n      <td>0</td>\n      <td>0</td>\n      <td>0</td>\n      <td>0</td>\n      <td>0</td>\n      <td>0</td>\n      <td>0</td>\n      <td>0</td>\n      <td>0</td>\n      <td>0</td>\n      <td>0</td>\n      <td>0</td>\n    </tr>\n    <tr>\n      <th>zone</th>\n      <td>1</td>\n      <td>1</td>\n      <td>1</td>\n      <td>1</td>\n      <td>1</td>\n      <td>1</td>\n      <td>0</td>\n      <td>0</td>\n      <td>0</td>\n      <td>0</td>\n      <td>0</td>\n      <td>0</td>\n      <td>0</td>\n      <td>0</td>\n      <td>0</td>\n      <td>0</td>\n      <td>0</td>\n      <td>0</td>\n      <td>0</td>\n      <td>0</td>\n    </tr>\n    <tr>\n      <th>departure date</th>\n      <td>1</td>\n      <td>1</td>\n      <td>1</td>\n      <td>1</td>\n      <td>1</td>\n      <td>1</td>\n      <td>1</td>\n      <td>0</td>\n      <td>0</td>\n      <td>0</td>\n      <td>0</td>\n      <td>0</td>\n      <td>0</td>\n      <td>0</td>\n      <td>0</td>\n      <td>0</td>\n      <td>0</td>\n      <td>0</td>\n      <td>0</td>\n      <td>0</td>\n    </tr>\n    <tr>\n      <th>departure location</th>\n      <td>1</td>\n      <td>1</td>\n      <td>1</td>\n      <td>1</td>\n      <td>1</td>\n      <td>1</td>\n      <td>1</td>\n      <td>1</td>\n      <td>0</td>\n      <td>0</td>\n      <td>0</td>\n      <td>0</td>\n      <td>0</td>\n      <td>0</td>\n      <td>0</td>\n      <td>0</td>\n      <td>0</td>\n      <td>0</td>\n      <td>0</td>\n      <td>0</td>\n    </tr>\n    <tr>\n      <th>departure time</th>\n      <td>1</td>\n      <td>1</td>\n      <td>1</td>\n      <td>1</td>\n      <td>1</td>\n      <td>1</td>\n      <td>1</td>\n      <td>1</td>\n      <td>1</td>\n      <td>0</td>\n      <td>0</td>\n      <td>0</td>\n      <td>0</td>\n      <td>0</td>\n      <td>0</td>\n      <td>0</td>\n      <td>0</td>\n      <td>0</td>\n      <td>0</td>\n      <td>0</td>\n    </tr>\n    <tr>\n      <th>departure platform</th>\n      <td>1</td>\n      <td>1</td>\n      <td>1</td>\n      <td>1</td>\n      <td>1</td>\n      <td>1</td>\n      <td>1</td>\n      <td>1</td>\n      <td>1</td>\n      <td>1</td>\n      <td>0</td>\n      <td>0</td>\n      <td>0</td>\n      <td>0</td>\n      <td>0</td>\n      <td>0</td>\n      <td>0</td>\n      <td>0</td>\n      <td>0</td>\n      <td>0</td>\n    </tr>\n    <tr>\n      <th>departure station</th>\n      <td>1</td>\n      <td>1</td>\n      <td>1</td>\n      <td>1</td>\n      <td>1</td>\n      <td>1</td>\n      <td>1</td>\n      <td>1</td>\n      <td>1</td>\n      <td>1</td>\n      <td>1</td>\n      <td>0</td>\n      <td>0</td>\n      <td>0</td>\n      <td>0</td>\n      <td>0</td>\n      <td>0</td>\n      <td>0</td>\n      <td>0</td>\n      <td>0</td>\n    </tr>\n    <tr>\n      <th>departure track</th>\n      <td>1</td>\n      <td>1</td>\n      <td>1</td>\n      <td>1</td>\n      <td>1</td>\n      <td>1</td>\n      <td>1</td>\n      <td>1</td>\n      <td>1</td>\n      <td>1</td>\n      <td>1</td>\n      <td>1</td>\n      <td>0</td>\n      <td>0</td>\n      <td>0</td>\n      <td>0</td>\n      <td>0</td>\n      <td>0</td>\n      <td>0</td>\n      <td>0</td>\n    </tr>\n    <tr>\n      <th>train</th>\n      <td>1</td>\n      <td>1</td>\n      <td>1</td>\n      <td>1</td>\n      <td>1</td>\n      <td>1</td>\n      <td>1</td>\n      <td>1</td>\n      <td>1</td>\n      <td>1</td>\n      <td>1</td>\n      <td>1</td>\n      <td>1</td>\n      <td>0</td>\n      <td>0</td>\n      <td>0</td>\n      <td>0</td>\n      <td>0</td>\n      <td>0</td>\n      <td>0</td>\n    </tr>\n    <tr>\n      <th>seat</th>\n      <td>1</td>\n      <td>1</td>\n      <td>1</td>\n      <td>1</td>\n      <td>1</td>\n      <td>1</td>\n      <td>1</td>\n      <td>1</td>\n      <td>1</td>\n      <td>1</td>\n      <td>1</td>\n      <td>1</td>\n      <td>1</td>\n      <td>1</td>\n      <td>0</td>\n      <td>0</td>\n      <td>0</td>\n      <td>0</td>\n      <td>0</td>\n      <td>0</td>\n    </tr>\n    <tr>\n      <th>route</th>\n      <td>1</td>\n      <td>1</td>\n      <td>1</td>\n      <td>1</td>\n      <td>1</td>\n      <td>1</td>\n      <td>1</td>\n      <td>1</td>\n      <td>1</td>\n      <td>1</td>\n      <td>1</td>\n      <td>1</td>\n      <td>1</td>\n      <td>1</td>\n      <td>1</td>\n      <td>0</td>\n      <td>0</td>\n      <td>0</td>\n      <td>0</td>\n      <td>0</td>\n    </tr>\n    <tr>\n      <th>price</th>\n      <td>1</td>\n      <td>1</td>\n      <td>1</td>\n      <td>1</td>\n      <td>1</td>\n      <td>1</td>\n      <td>1</td>\n      <td>1</td>\n      <td>1</td>\n      <td>1</td>\n      <td>1</td>\n      <td>1</td>\n      <td>1</td>\n      <td>1</td>\n      <td>1</td>\n      <td>1</td>\n      <td>0</td>\n      <td>0</td>\n      <td>0</td>\n      <td>0</td>\n    </tr>\n    <tr>\n      <th>type</th>\n      <td>1</td>\n      <td>1</td>\n      <td>1</td>\n      <td>1</td>\n      <td>1</td>\n      <td>1</td>\n      <td>1</td>\n      <td>1</td>\n      <td>1</td>\n      <td>1</td>\n      <td>1</td>\n      <td>1</td>\n      <td>1</td>\n      <td>1</td>\n      <td>1</td>\n      <td>1</td>\n      <td>1</td>\n      <td>0</td>\n      <td>0</td>\n      <td>0</td>\n    </tr>\n    <tr>\n      <th>arrival track</th>\n      <td>1</td>\n      <td>1</td>\n      <td>1</td>\n      <td>1</td>\n      <td>1</td>\n      <td>1</td>\n      <td>1</td>\n      <td>1</td>\n      <td>1</td>\n      <td>1</td>\n      <td>1</td>\n      <td>1</td>\n      <td>1</td>\n      <td>1</td>\n      <td>1</td>\n      <td>1</td>\n      <td>1</td>\n      <td>1</td>\n      <td>0</td>\n      <td>0</td>\n    </tr>\n    <tr>\n      <th>duration</th>\n      <td>1</td>\n      <td>1</td>\n      <td>1</td>\n      <td>1</td>\n      <td>1</td>\n      <td>1</td>\n      <td>1</td>\n      <td>1</td>\n      <td>1</td>\n      <td>1</td>\n      <td>1</td>\n      <td>1</td>\n      <td>1</td>\n      <td>1</td>\n      <td>1</td>\n      <td>1</td>\n      <td>1</td>\n      <td>1</td>\n      <td>1</td>\n      <td>0</td>\n    </tr>\n    <tr>\n      <th>wagon</th>\n      <td>1</td>\n      <td>1</td>\n      <td>1</td>\n      <td>1</td>\n      <td>1</td>\n      <td>1</td>\n      <td>1</td>\n      <td>1</td>\n      <td>1</td>\n      <td>1</td>\n      <td>1</td>\n      <td>1</td>\n      <td>1</td>\n      <td>1</td>\n      <td>1</td>\n      <td>1</td>\n      <td>1</td>\n      <td>1</td>\n      <td>1</td>\n      <td>1</td>\n    </tr>\n  </tbody>\n</table>\n</div>"
     },
     "metadata": {},
     "execution_count": 170
    }
   ],
   "source": [
    "# Sort this so the lower triagle contains all the 1s\n",
    "\n",
    "includingtotals = pd.concat([df_match,pd.DataFrame(df_match.sum(axis=1),columns=['Total'])],axis=1)\n",
    "sorted = includingtotals.sort_values(['Total'], ascending=[True])\n",
    "sorted = sorted.drop(columns=['Total'], axis=1)\n",
    "sorted = sorted.reindex(sorted.sum().sort_values(ascending=False).index, axis=1)\n",
    "sorted"
   ]
  },
  {
   "cell_type": "code",
   "execution_count": 171,
   "metadata": {},
   "outputs": [],
   "source": [
    "# From above, I see there is a pattern. The diagonal contains the only rules/class pairs.\n",
    "\n",
    "rule_order = pd.Series(np.diag(sorted), index=[sorted.columns, sorted.index]).sort_index()"
   ]
  },
  {
   "cell_type": "code",
   "execution_count": 172,
   "metadata": {},
   "outputs": [],
   "source": [
    "# Now get the depature indexes\n",
    "dep_index = [i for i, si in enumerate(rule_order.index.values) if si[1].startswith('departure')]"
   ]
  },
  {
   "cell_type": "code",
   "execution_count": 173,
   "metadata": {},
   "outputs": [],
   "source": [
    "# Take the indexes from my ticket\n",
    "a = np.take(mine, dep_index)"
   ]
  },
  {
   "cell_type": "code",
   "execution_count": 174,
   "metadata": {},
   "outputs": [
    {
     "output_type": "execute_result",
     "data": {
      "text/plain": [
       "1305243193339"
      ]
     },
     "metadata": {},
     "execution_count": 174
    }
   ],
   "source": [
    "# Answer is the product\n",
    "np.product(a)"
   ]
  }
 ]
}
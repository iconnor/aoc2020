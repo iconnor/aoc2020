{
 "metadata": {
  "language_info": {
   "codemirror_mode": {
    "name": "ipython",
    "version": 3
   },
   "file_extension": ".py",
   "mimetype": "text/x-python",
   "name": "python",
   "nbconvert_exporter": "python",
   "pygments_lexer": "ipython3",
   "version": "3.7.4-final"
  },
  "orig_nbformat": 2,
  "kernelspec": {
   "name": "python3",
   "display_name": "Python 3.7.4 64-bit ('base': conda)",
   "metadata": {
    "interpreter": {
     "hash": "ba0bd0e93b1aaa9fdf272332740dbb41ad7b2105fb58e1f99da66296a01d206e"
    }
   }
  }
 },
 "nbformat": 4,
 "nbformat_minor": 2,
 "cells": [
  {
   "cell_type": "code",
   "execution_count": 44,
   "metadata": {},
   "outputs": [],
   "source": [
    "depature, times = \"\"\"939\n",
    "7,13,x,x,59,x,31,19\"\"\".splitlines()\n",
    "buses = [int(i.replace('x','0')) for i in times.split(',')]"
   ]
  },
  {
   "cell_type": "code",
   "execution_count": 45,
   "metadata": {},
   "outputs": [
    {
     "output_type": "execute_result",
     "data": {
      "text/plain": [
       "295"
      ]
     },
     "metadata": {},
     "execution_count": 45
    }
   ],
   "source": [
    "start_min = int(depature) #939 is not 9:39\n",
    "\n",
    "def find_route(start_min, buses):\n",
    "    for m in range(start_min,start_min+60):\n",
    "        for i in range(len(buses)):\n",
    "            if buses[i] != 0:\n",
    "                if (m % buses[i]) == 0:\n",
    "                    return buses[i], m-start_min\n",
    "\n",
    "bus, min = find_route(start_min, buses)\n",
    "bus * min"
   ]
  },
  {
   "cell_type": "code",
   "execution_count": 46,
   "metadata": {},
   "outputs": [
    {
     "output_type": "execute_result",
     "data": {
      "text/plain": [
       "1068781"
      ]
     },
     "metadata": {},
     "execution_count": 46
    }
   ],
   "source": [
    "from modint import chinese_remainder\n",
    "\n",
    "in_buses = []\n",
    "in_rems = []\n",
    "\n",
    "for i in range(len(buses)):\n",
    "    if buses[i] != 0:\n",
    "        in_rems.append(buses[i]-i)\n",
    "        in_buses.append(buses[i])\n",
    "\n",
    "chinese_remainder(in_buses, in_rems)"
   ]
  }
 ]
}
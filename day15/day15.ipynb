{
 "metadata": {
  "language_info": {
   "codemirror_mode": {
    "name": "ipython",
    "version": 3
   },
   "file_extension": ".py",
   "mimetype": "text/x-python",
   "name": "python",
   "nbconvert_exporter": "python",
   "pygments_lexer": "ipython3",
   "version": "3.8.5-final"
  },
  "orig_nbformat": 2,
  "kernelspec": {
   "name": "python3",
   "display_name": "Python 3",
   "language": "python"
  }
 },
 "nbformat": 4,
 "nbformat_minor": 2,
 "cells": [
  {
   "cell_type": "code",
   "execution_count": 26,
   "metadata": {},
   "outputs": [
    {
     "output_type": "execute_result",
     "data": {
      "text/plain": [
       "436"
      ]
     },
     "metadata": {},
     "execution_count": 26
    }
   ],
   "source": [
    "inp = list(map(int, '0,3,6'.split(',')))\n",
    "\n",
    "def find_last(lst, sought_elt):\n",
    "    for r_idx, elt in enumerate(reversed(lst)):\n",
    "        if elt == sought_elt:\n",
    "            return len(lst) - 1 - r_idx\n",
    "\n",
    "spoken = [] + inp\n",
    "for i in range(len(spoken)-1, 2020-1):\n",
    "    last = spoken[i]\n",
    "    if spoken.count(last) == 1:\n",
    "        spoken.append(0)\n",
    "    else:\n",
    "        spoken.append(i-find_last(spoken[:-1], last))\n",
    "    \n",
    "\n",
    "[0, 3, 6, 0, 3, 3, 1, 0, 4, 0]\n",
    "spoken[-1]"
   ]
  },
  {
   "cell_type": "code",
   "execution_count": 28,
   "metadata": {},
   "outputs": [
    {
     "output_type": "execute_result",
     "data": {
      "text/plain": [
       "175594"
      ]
     },
     "metadata": {},
     "execution_count": 28
    }
   ],
   "source": [
    "inp = list(map(int, '0,3,6'.split(',')))\n",
    "indexes = {inp[i]: i for i in range(len(inp))}\n",
    "\n",
    "spoken = [] + inp\n",
    "for i in range(len(spoken)-1, 30000000-1):\n",
    "    last = spoken[i]\n",
    "    if last not in indexes.keys():\n",
    "        spoken.append(0)\n",
    "    else:\n",
    "        spoken.append(i - indexes[last])\n",
    "    indexes[last] = i\n",
    "spoken[-1]"
   ]
  }
 ]
}
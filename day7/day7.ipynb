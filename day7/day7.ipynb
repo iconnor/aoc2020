{
 "metadata": {
  "language_info": {
   "codemirror_mode": {
    "name": "ipython",
    "version": 3
   },
   "file_extension": ".py",
   "mimetype": "text/x-python",
   "name": "python",
   "nbconvert_exporter": "python",
   "pygments_lexer": "ipython3",
   "version": "3.7.4-final"
  },
  "orig_nbformat": 2,
  "kernelspec": {
   "name": "python3",
   "display_name": "Python 3"
  }
 },
 "nbformat": 4,
 "nbformat_minor": 2,
 "cells": [
  {
   "cell_type": "code",
   "execution_count": 100,
   "metadata": {},
   "outputs": [
    {
     "output_type": "execute_result",
     "data": {
      "text/plain": [
       "{'shiny gold': {'dark red': 2},\n",
       " 'dark red': {'dark orange': 2},\n",
       " 'dark orange': {'dark yellow': 2},\n",
       " 'dark yellow': {'dark green': 2},\n",
       " 'dark green': {'dark blue': 2},\n",
       " 'dark blue': {'dark violet': 2},\n",
       " 'dark violet': {'other': 0}}"
      ]
     },
     "metadata": {},
     "execution_count": 100
    }
   ],
   "source": [
    "bags = \"\"\"shiny gold bags contain 2 dark red bags.\n",
    "dark red bags contain 2 dark orange bags.\n",
    "dark orange bags contain 2 dark yellow bags.\n",
    "dark yellow bags contain 2 dark green bags.\n",
    "dark green bags contain 2 dark blue bags.\n",
    "dark blue bags contain 2 dark violet bags.\n",
    "dark violet bags contain no other bags.\"\"\".split('\\n')\n",
    "\n",
    "tbags = \"\"\"light red bags contain 1 bright white bag, 2 muted yellow bags.\n",
    "dark orange bags contain 3 bright white bags, 4 muted yellow bags.\n",
    "bright white bags contain 1 shiny gold bag.\n",
    "muted yellow bags contain 2 shiny gold bags, 9 faded blue bags.\n",
    "shiny gold bags contain 1 dark olive bag, 2 vibrant plum bags.\n",
    "dark olive bags contain 3 faded blue bags, 4 dotted black bags.\n",
    "vibrant plum bags contain 5 faded blue bags, 6 dotted black bags.\n",
    "faded blue bags contain no other bags.\n",
    "dotted black bags contain no other bags.\"\"\".split('\\n')\n",
    "\n",
    "import re\n",
    "bag_hash = { kw[0]: \n",
    "    {re.sub(' bags?\\.?$', '', rule[2:]): int(rule[:1]) for rule in kw[1].replace('no other', '0 other').split(', ')}\n",
    "        for kw in [x.split(' bags contain ') for x in bags]}\n",
    "\n",
    "graph = { kw[0]: \n",
    "    [re.sub(' bags?\\.?$', '', rule[2:]) for rule in kw[1].replace('no other', '0 other').split(', ')]\n",
    "        for kw in [x.split(' bags contain ') for x in bags]}\n",
    "\n",
    "\n",
    "t = [ [k] + v for k, v in graph.items()]\n",
    "\n",
    "colors = set([item for sublist in t for item in sublist])\n",
    "colors.remove('other')\n",
    "bag_hash"
   ]
  },
  {
   "cell_type": "code",
   "execution_count": 101,
   "metadata": {},
   "outputs": [
    {
     "output_type": "execute_result",
     "data": {
      "text/plain": [
       "0"
      ]
     },
     "metadata": {},
     "execution_count": 101
    }
   ],
   "source": [
    "def find_all_paths(graph, start, end, path=[]):\n",
    "    path = path + [start]\n",
    "    if start == end:\n",
    "        return [path]\n",
    "    if not start in graph:\n",
    "        return []\n",
    "    paths = []\n",
    "    for node in graph[start]:\n",
    "        newpaths = find_all_paths(graph, node, end, path)\n",
    "        for newpath in newpaths:\n",
    "            paths.append(newpath)\n",
    "    return paths\n",
    "\n",
    "goal_color = 'shiny gold'\n",
    "if goal_color in colors:\n",
    "    colors.remove(goal_color)\n",
    "\n",
    "all_paths = []\n",
    "for color in colors:\n",
    "    all_paths += find_all_paths(graph, color, goal_color)\n",
    "\n",
    "len(set([row[0] for row in all_paths]))"
   ]
  },
  {
   "cell_type": "code",
   "execution_count": 102,
   "metadata": {},
   "outputs": [],
   "source": [
    "goal_color = 'shiny gold'"
   ]
  },
  {
   "cell_type": "code",
   "execution_count": 103,
   "metadata": {},
   "outputs": [
    {
     "output_type": "execute_result",
     "data": {
      "text/plain": [
       "126"
      ]
     },
     "metadata": {},
     "execution_count": 103
    }
   ],
   "source": [
    "def count_inner_bags(color):\n",
    "    count = 0\n",
    "    for color, bag_count in bag_hash[color].items():\n",
    "        if bag_count > 0:\n",
    "            count += bag_count * count_inner_bags(color) + bag_count\n",
    "    return count\n",
    "\n",
    "count(goal_color)"
   ]
  }
 ]
}
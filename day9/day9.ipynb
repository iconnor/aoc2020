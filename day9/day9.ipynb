{
 "metadata": {
  "language_info": {
   "codemirror_mode": {
    "name": "ipython",
    "version": 3
   },
   "file_extension": ".py",
   "mimetype": "text/x-python",
   "name": "python",
   "nbconvert_exporter": "python",
   "pygments_lexer": "ipython3",
   "version": "3.7.4-final"
  },
  "orig_nbformat": 2,
  "kernelspec": {
   "name": "python3",
   "display_name": "Python 3"
  }
 },
 "nbformat": 4,
 "nbformat_minor": 2,
 "cells": [
  {
   "cell_type": "code",
   "execution_count": 41,
   "metadata": {},
   "outputs": [],
   "source": [
    "inp = \"\"\"35\n",
    "20\n",
    "15\n",
    "25\n",
    "47\n",
    "40\n",
    "62\n",
    "55\n",
    "65\n",
    "95\n",
    "102\n",
    "117\n",
    "150\n",
    "182\n",
    "127\n",
    "219\n",
    "299\n",
    "277\n",
    "309\n",
    "576\"\"\".split('\\n')\n",
    "pream = [int(i) for i in inp]"
   ]
  },
  {
   "cell_type": "code",
   "execution_count": 42,
   "metadata": {},
   "outputs": [
    {
     "output_type": "stream",
     "name": "stdout",
     "text": [
      "Part 1 127 14\nPart 2 62\n"
     ]
    }
   ],
   "source": [
    "from itertools import combinations \n",
    "pream_size = 5 #25\n",
    "for i in range(pream_size, len(pream)):\n",
    "    found = False\n",
    "    chunk = pream[i-pream_size:i]\n",
    "    for pairs in combinations(chunk, 2):\n",
    "        if sum(pairs) == pream[i]:\n",
    "            found = True\n",
    "    if not found:\n",
    "        print('Part 1', pream[i], i)\n",
    "        for j in range(i):\n",
    "            for k in range(i):\n",
    "                if sum(pream[j:k]) == pream[i]:\n",
    "                    print('Part 2', min(pream[j:k]) + max(pream[j:k]))\n",
    "\n",
    "\n"
   ]
  },
  {
   "cell_type": "code",
   "execution_count": null,
   "metadata": {},
   "outputs": [],
   "source": []
  }
 ]
}